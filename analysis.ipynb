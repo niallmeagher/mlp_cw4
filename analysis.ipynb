{
 "cells": [
  {
   "cell_type": "code",
   "execution_count": 1,
   "metadata": {},
   "outputs": [],
   "source": [
    "import pandas as pd"
   ]
  },
  {
   "cell_type": "code",
   "execution_count": 2,
   "metadata": {},
   "outputs": [
    {
     "data": {
      "application/vnd.microsoft.datawrangler.viewer.v0+json": {
       "columns": [
        {
         "name": "index",
         "rawType": "int64",
         "type": "integer"
        },
        {
         "name": "number",
         "rawType": "int64",
         "type": "integer"
        },
        {
         "name": "value",
         "rawType": "float64",
         "type": "float"
        },
        {
         "name": "datetime_start",
         "rawType": "object",
         "type": "string"
        },
        {
         "name": "datetime_complete",
         "rawType": "object",
         "type": "unknown"
        },
        {
         "name": "duration",
         "rawType": "object",
         "type": "unknown"
        },
        {
         "name": "params_T_max",
         "rawType": "int64",
         "type": "integer"
        },
        {
         "name": "params_clip_epsilon",
         "rawType": "float64",
         "type": "float"
        },
        {
         "name": "params_entropy_coef",
         "rawType": "float64",
         "type": "float"
        },
        {
         "name": "params_eta_min",
         "rawType": "float64",
         "type": "float"
        },
        {
         "name": "params_gae_lambda",
         "rawType": "float64",
         "type": "float"
        },
        {
         "name": "params_gamma",
         "rawType": "float64",
         "type": "float"
        },
        {
         "name": "params_lr",
         "rawType": "float64",
         "type": "float"
        },
        {
         "name": "params_scheduler",
         "rawType": "object",
         "type": "string"
        },
        {
         "name": "params_value_loss_coef",
         "rawType": "float64",
         "type": "float"
        },
        {
         "name": "state",
         "rawType": "object",
         "type": "string"
        }
       ],
       "conversionMethod": "pd.DataFrame",
       "ref": "8b823464-9ba4-4599-83d6-d4bb004d3a97",
       "rows": [
        [
         "0",
         "0",
         null,
         "2025-03-13 22:30:44.554933",
         "2025-03-13 22:35:36.048113",
         "0 days 00:04:51.493180",
         "30",
         "0.2445123773066699",
         "0.0004085389722766",
         "7.307862812576701e-07",
         "0.985439376939549",
         "0.9668814794565628",
         "0.0009045895783985",
         "step",
         "0.6572327156651057",
         "FAIL"
        ],
        [
         "1",
         "1",
         null,
         "2025-03-13 22:31:10.701195",
         null,
         null,
         "11",
         "0.2177493603782046",
         "0.0611148224107908",
         "8.46180806172138e-06",
         "0.913056992018422",
         "0.9941012306086734",
         "4.631354834896378e-05",
         "cosine",
         "0.4173185517834222",
         "RUNNING"
        ],
        [
         "2",
         "2",
         null,
         "2025-03-13 22:31:31.135638",
         null,
         null,
         "14",
         "0.2511858454911634",
         "0.0977457977688552",
         "3.2800018640586625e-06",
         "0.9226402629462102",
         "0.9544162409590068",
         "1.541552193476449e-05",
         "step",
         "0.6534070382048642",
         "RUNNING"
        ],
        [
         "3",
         "3",
         null,
         "2025-03-13 22:36:29.688188",
         null,
         null,
         "42",
         "0.2400316088711941",
         "0.004949012275974",
         "8.515077427853181e-07",
         "0.9119150740587184",
         "0.9892859598271572",
         "2.467232164532359e-05",
         "step",
         "0.5764291669731995",
         "RUNNING"
        ],
        [
         "4",
         "4",
         null,
         "2025-03-13 22:39:37.210763",
         null,
         null,
         "44",
         "0.1244249561101436",
         "0.0054766092819211",
         "1.8048554479487722e-07",
         "0.9031194184076918",
         "0.960800217001975",
         "1.435487701560628e-05",
         "step",
         "0.7818328921072037",
         "RUNNING"
        ]
       ],
       "shape": {
        "columns": 15,
        "rows": 5
       }
      },
      "text/html": [
       "<div>\n",
       "<style scoped>\n",
       "    .dataframe tbody tr th:only-of-type {\n",
       "        vertical-align: middle;\n",
       "    }\n",
       "\n",
       "    .dataframe tbody tr th {\n",
       "        vertical-align: top;\n",
       "    }\n",
       "\n",
       "    .dataframe thead th {\n",
       "        text-align: right;\n",
       "    }\n",
       "</style>\n",
       "<table border=\"1\" class=\"dataframe\">\n",
       "  <thead>\n",
       "    <tr style=\"text-align: right;\">\n",
       "      <th></th>\n",
       "      <th>number</th>\n",
       "      <th>value</th>\n",
       "      <th>datetime_start</th>\n",
       "      <th>datetime_complete</th>\n",
       "      <th>duration</th>\n",
       "      <th>params_T_max</th>\n",
       "      <th>params_clip_epsilon</th>\n",
       "      <th>params_entropy_coef</th>\n",
       "      <th>params_eta_min</th>\n",
       "      <th>params_gae_lambda</th>\n",
       "      <th>params_gamma</th>\n",
       "      <th>params_lr</th>\n",
       "      <th>params_scheduler</th>\n",
       "      <th>params_value_loss_coef</th>\n",
       "      <th>state</th>\n",
       "    </tr>\n",
       "  </thead>\n",
       "  <tbody>\n",
       "    <tr>\n",
       "      <th>0</th>\n",
       "      <td>0</td>\n",
       "      <td>NaN</td>\n",
       "      <td>2025-03-13 22:30:44.554933</td>\n",
       "      <td>2025-03-13 22:35:36.048113</td>\n",
       "      <td>0 days 00:04:51.493180</td>\n",
       "      <td>30</td>\n",
       "      <td>0.244512</td>\n",
       "      <td>0.000409</td>\n",
       "      <td>7.307863e-07</td>\n",
       "      <td>0.985439</td>\n",
       "      <td>0.966881</td>\n",
       "      <td>0.000905</td>\n",
       "      <td>step</td>\n",
       "      <td>0.657233</td>\n",
       "      <td>FAIL</td>\n",
       "    </tr>\n",
       "    <tr>\n",
       "      <th>1</th>\n",
       "      <td>1</td>\n",
       "      <td>NaN</td>\n",
       "      <td>2025-03-13 22:31:10.701195</td>\n",
       "      <td>NaN</td>\n",
       "      <td>NaN</td>\n",
       "      <td>11</td>\n",
       "      <td>0.217749</td>\n",
       "      <td>0.061115</td>\n",
       "      <td>8.461808e-06</td>\n",
       "      <td>0.913057</td>\n",
       "      <td>0.994101</td>\n",
       "      <td>0.000046</td>\n",
       "      <td>cosine</td>\n",
       "      <td>0.417319</td>\n",
       "      <td>RUNNING</td>\n",
       "    </tr>\n",
       "    <tr>\n",
       "      <th>2</th>\n",
       "      <td>2</td>\n",
       "      <td>NaN</td>\n",
       "      <td>2025-03-13 22:31:31.135638</td>\n",
       "      <td>NaN</td>\n",
       "      <td>NaN</td>\n",
       "      <td>14</td>\n",
       "      <td>0.251186</td>\n",
       "      <td>0.097746</td>\n",
       "      <td>3.280002e-06</td>\n",
       "      <td>0.922640</td>\n",
       "      <td>0.954416</td>\n",
       "      <td>0.000015</td>\n",
       "      <td>step</td>\n",
       "      <td>0.653407</td>\n",
       "      <td>RUNNING</td>\n",
       "    </tr>\n",
       "    <tr>\n",
       "      <th>3</th>\n",
       "      <td>3</td>\n",
       "      <td>NaN</td>\n",
       "      <td>2025-03-13 22:36:29.688188</td>\n",
       "      <td>NaN</td>\n",
       "      <td>NaN</td>\n",
       "      <td>42</td>\n",
       "      <td>0.240032</td>\n",
       "      <td>0.004949</td>\n",
       "      <td>8.515077e-07</td>\n",
       "      <td>0.911915</td>\n",
       "      <td>0.989286</td>\n",
       "      <td>0.000025</td>\n",
       "      <td>step</td>\n",
       "      <td>0.576429</td>\n",
       "      <td>RUNNING</td>\n",
       "    </tr>\n",
       "    <tr>\n",
       "      <th>4</th>\n",
       "      <td>4</td>\n",
       "      <td>NaN</td>\n",
       "      <td>2025-03-13 22:39:37.210763</td>\n",
       "      <td>NaN</td>\n",
       "      <td>NaN</td>\n",
       "      <td>44</td>\n",
       "      <td>0.124425</td>\n",
       "      <td>0.005477</td>\n",
       "      <td>1.804855e-07</td>\n",
       "      <td>0.903119</td>\n",
       "      <td>0.960800</td>\n",
       "      <td>0.000014</td>\n",
       "      <td>step</td>\n",
       "      <td>0.781833</td>\n",
       "      <td>RUNNING</td>\n",
       "    </tr>\n",
       "  </tbody>\n",
       "</table>\n",
       "</div>"
      ],
      "text/plain": [
       "   number  value              datetime_start           datetime_complete  \\\n",
       "0       0    NaN  2025-03-13 22:30:44.554933  2025-03-13 22:35:36.048113   \n",
       "1       1    NaN  2025-03-13 22:31:10.701195                         NaN   \n",
       "2       2    NaN  2025-03-13 22:31:31.135638                         NaN   \n",
       "3       3    NaN  2025-03-13 22:36:29.688188                         NaN   \n",
       "4       4    NaN  2025-03-13 22:39:37.210763                         NaN   \n",
       "\n",
       "                 duration  params_T_max  params_clip_epsilon  \\\n",
       "0  0 days 00:04:51.493180            30             0.244512   \n",
       "1                     NaN            11             0.217749   \n",
       "2                     NaN            14             0.251186   \n",
       "3                     NaN            42             0.240032   \n",
       "4                     NaN            44             0.124425   \n",
       "\n",
       "   params_entropy_coef  params_eta_min  params_gae_lambda  params_gamma  \\\n",
       "0             0.000409    7.307863e-07           0.985439      0.966881   \n",
       "1             0.061115    8.461808e-06           0.913057      0.994101   \n",
       "2             0.097746    3.280002e-06           0.922640      0.954416   \n",
       "3             0.004949    8.515077e-07           0.911915      0.989286   \n",
       "4             0.005477    1.804855e-07           0.903119      0.960800   \n",
       "\n",
       "   params_lr params_scheduler  params_value_loss_coef    state  \n",
       "0   0.000905             step                0.657233     FAIL  \n",
       "1   0.000046           cosine                0.417319  RUNNING  \n",
       "2   0.000015             step                0.653407  RUNNING  \n",
       "3   0.000025             step                0.576429  RUNNING  \n",
       "4   0.000014             step                0.781833  RUNNING  "
      ]
     },
     "execution_count": 2,
     "metadata": {},
     "output_type": "execute_result"
    }
   ],
   "source": [
    "df = pd.read_csv('optuna_results.csv')\n",
    "df.head()"
   ]
  },
  {
   "cell_type": "code",
   "execution_count": null,
   "metadata": {},
   "outputs": [],
   "source": []
  }
 ],
 "metadata": {
  "kernelspec": {
   "display_name": "Python 3",
   "language": "python",
   "name": "python3"
  },
  "language_info": {
   "codemirror_mode": {
    "name": "ipython",
    "version": 3
   },
   "file_extension": ".py",
   "mimetype": "text/x-python",
   "name": "python",
   "nbconvert_exporter": "python",
   "pygments_lexer": "ipython3",
   "version": "3.12.0"
  }
 },
 "nbformat": 4,
 "nbformat_minor": 2
}
